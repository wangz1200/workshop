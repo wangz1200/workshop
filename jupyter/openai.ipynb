{
 "cells": [
  {
   "cell_type": "code",
   "source": [
    "from openai import OpenAI\n",
    "\n",
    "\n",
    "api_key=\"None\"\n",
    "base_url=\"http://10.133.95.106:9100/v1\"\n",
    "\n",
    "\n",
    "client = OpenAI(\n",
    "    api_key=api_key,\n",
    "    base_url=base_url,\n",
    ")"
   ],
   "metadata": {
    "collapsed": false,
    "ExecuteTime": {
     "end_time": "2024-05-29T03:08:51.855820Z",
     "start_time": "2024-05-29T03:08:50.320388Z"
    }
   },
   "id": "40a01e2ae00299da",
   "outputs": [],
   "execution_count": 1
  },
  {
   "cell_type": "code",
   "source": [
    "\n",
    "query = (\n",
    "    \"<指令>根据下述文档内容的关键词，并用逗号分割。</指令>\\n\"\n",
    "    \"<内容>但是在回答的问题跟人类会有一些不同，比如我们在背诵古诗词的时候，床前明月光，后面如果我们背下来了并且确定背的对的话，后一句肯定接的是疑是地上霜。当然我们可以随便编一个错误回答，比如唧唧复唧唧，我们是回答了，但是我们知道肯定是瞎编的。</内容>\"\n",
    ")\n",
    "stream = True\n",
    "\n",
    "text = client.chat.completions.create(\n",
    "    model=\"gxllm\",\n",
    "    # model=\"./models/qwen1.5-72b-chat-v2024022/\",\n",
    "    messages=[\n",
    "        # {\n",
    "        #     \"role\": \"system\",\n",
    "        #     \"content\": \"You are a helpful assistant.\"\n",
    "        # },\n",
    "        {\n",
    "            \"role\": \"user\",\n",
    "            \"content\": \"小红和小丽去书店买书，小红还缺2.4元，小丽还缺3元，小红和小丽的钱合起来正好够买一本。请问这本书多少钱？\",\n",
    "        }\n",
    "    ],\n",
    "    max_tokens=4096,\n",
    "    stream=stream,\n",
    "    temperature=0,\n",
    "    stop=[\"<|im_end|>\", \"<|endoftext|>\", ],\n",
    ")\n",
    "if stream:\n",
    "    for t in text:\n",
    "        c = t.choices[0].delta.content\n",
    "        if c:\n",
    "            print(c, end=\"\", flush=True)\n",
    "else:\n",
    "    txt = text.choices[0].message.content\n",
    "    print(txt)\n",
    "    "
   ],
   "metadata": {
    "collapsed": false,
    "ExecuteTime": {
     "end_time": "2024-05-29T03:09:00.154740Z",
     "start_time": "2024-05-29T03:08:53.564998Z"
    }
   },
   "id": "f392e53a1c5bb8dd",
   "outputs": [
    {
     "name": "stdout",
     "output_type": "stream",
     "text": [
      "设这本书的价格为x元。\n",
      "\n",
      "根据题意，小红和小丽的钱合起来正好够买这本书，即他们的钱加起来等于书的价格。如果小红还缺2.4元，说明她手上有x - 2.4元。小丽还缺3元，说明她手上有x - 3元。因此，我们可以得到方程：\n",
      "\n",
      "\\[ (x - 2.4) + (x - 3) = x \\]\n",
      "\n",
      "解这个方程：\n",
      "\n",
      "\\[ 2x - 5.4 = x \\]\n",
      "\n",
      "\\[ x = 5.4 \\]\n",
      "\n",
      "所以这本书的价格是5.4元。"
     ]
    }
   ],
   "execution_count": 2
  },
  {
   "cell_type": "code",
   "outputs": [
    {
     "name": "stdout",
     "output_type": "stream",
     "text": [
      "我是通义千问，由阿里云开发的AI助手。我被设计用来回答各种问题、提供信息和与用户进行对话。有什么我可以帮助你的吗？"
     ]
    }
   ],
   "source": [
    "from openai import OpenAI\n",
    "\n",
    "\n",
    "api_key=\"None\"\n",
    "base_url=\"http://10.133.95.106:9101/v1\"\n",
    "stream = True\n",
    "query = f\"\"\"\n",
    "根据下述内容进行回答。\n",
    "内容如下：\n",
    "\n",
    "{{ text }}\n",
    "\n",
    "请问：{{ question }}\n",
    "\n",
    "\"\"\"\n",
    "\n",
    "\n",
    "client = OpenAI(\n",
    "    api_key=api_key,\n",
    "    base_url=base_url,\n",
    ")\n",
    "\n",
    "\n",
    "text = client.chat.completions.create(\n",
    "    model=\"gxllm\",\n",
    "    # model=\"./models/qwen1.5-72b-chat-v2024022/\",\n",
    "    messages=[\n",
    "        # {\n",
    "        #     \"role\": \"system\",\n",
    "        #     \"content\": \"You are a helpful assistant.\"\n",
    "        # },\n",
    "        {\n",
    "            \"role\": \"user\",\n",
    "            \"content\": query,\n",
    "        }\n",
    "    ],\n",
    "    max_tokens=4096,\n",
    "    stream=stream,\n",
    "    temperature=0.3,\n",
    "    stop=[\"<|im_end|>\", \"<|endoftext|>\", ],\n",
    ")\n",
    "if stream:\n",
    "    for t in text:\n",
    "        c = t.choices[0].delta.content\n",
    "        if c:\n",
    "            print(c, end=\"\", flush=True)\n",
    "else:\n",
    "    txt = text.choices[0].message.content\n",
    "    print(txt)"
   ],
   "metadata": {
    "collapsed": true,
    "ExecuteTime": {
     "end_time": "2024-03-11T02:33:00.605603Z",
     "start_time": "2024-03-11T02:32:59.792950Z"
    }
   },
   "id": "initial_id",
   "execution_count": 13
  }
 ],
 "metadata": {
  "kernelspec": {
   "display_name": "Python 3",
   "language": "python",
   "name": "python3"
  },
  "language_info": {
   "codemirror_mode": {
    "name": "ipython",
    "version": 2
   },
   "file_extension": ".py",
   "mimetype": "text/x-python",
   "name": "python",
   "nbconvert_exporter": "python",
   "pygments_lexer": "ipython2",
   "version": "2.7.6"
  }
 },
 "nbformat": 4,
 "nbformat_minor": 5
}
