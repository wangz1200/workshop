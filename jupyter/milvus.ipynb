{
 "cells": [
  {
   "cell_type": "code",
   "id": "initial_id",
   "metadata": {
    "collapsed": true,
    "ExecuteTime": {
     "end_time": "2024-05-28T01:59:29.079191Z",
     "start_time": "2024-05-28T01:59:25.721946Z"
    }
   },
   "source": [
    "from pymilvus import (\n",
    "    connections,\n",
    "    utility,\n",
    "    FieldSchema,\n",
    "    CollectionSchema,\n",
    "    DataType,\n",
    "    Collection,\n",
    ")"
   ],
   "outputs": [],
   "execution_count": 1
  },
  {
   "cell_type": "code",
   "source": [
    "connections.connect(\n",
    "    \"default\", \n",
    "    host=\"10.133.95.100\", \n",
    "    port=\"9107\",\n",
    ")\n",
    "# fields = [\n",
    "#     FieldSchema(name=\"pk\", dtype=DataType.INT64, is_primary=True, auto_id=False),\n",
    "#     FieldSchema(name=\"random\", dtype=DataType.DOUBLE),\n",
    "#     FieldSchema(name=\"embeddings\", dtype=DataType.FLOAT_VECTOR, dim=8),\n",
    "#     FieldSchema(name=\"content\", dtype=DataType.VARCHAR, max_length=1024)\n",
    "# ]\n",
    "# schema = CollectionSchema(fields, \"hello_milvus is the simplest demo to introduce the APIs\")\n",
    "# conn = Collection(\"zhishi\", schema)\n",
    "conn = Collection(\"anythingllm_t002\")\n",
    "import random\n",
    "entities = [\n",
    "    [\"333\"],  # field id\n",
    "    [[random.random() for _ in range(768)]],  # field embedding\n",
    "    # [str(random.randrange(-20, -10)) for _ in range(3000)],  # field key\n",
    "    # [[random.random() for _ in range(1024)] for _ in range(300000)],  # field content\n",
    "    [{\n",
    "        \"id\": '712fa708-94a7-416a-ba77-22e322401b6f',\n",
    "        \"url\": 'file:///root/gxocr/anythingllm/collector/hotdir/0000000.docx',\n",
    "        \"title\": '0000000.docx',\n",
    "        \"docAuthor\": 'no author found',\n",
    "        \"description\": 'No description found.',\n",
    "        \"docSource\": 'pdf file uploaded by the user.',\n",
    "        \"chunkSource\": '',\n",
    "        \"published\": '5/28/2024, 9:51:27 AM',\n",
    "        \"wordCount\": 1,\n",
    "        \"token_count_estimate\": 3896,\n",
    "        \"text\": \"数学和编程基础 数学：高数、线数、概率统计。大学水平就可以，如果基础差，可以后续边学边补。 Python：语言推荐python，基本上绕不过去。不用学太深，掌握Python的基本语法、数据类型、控制结构（如循环和条件语句）、函数等就够了 推荐资源：b站小甲鱼pytorch：深度学习的主流框架之一。推荐b站刘二大人《PyTorch深度学习实践》、我是土堆的《pytorch深度学习快速入门教程》 跑步进入Transformer 学习Transformer模型的基本架构和原理，包括自注意力机制 、位置编码、多头注意力等等。 推荐资料：\"\n",
    "    }]\n",
    "]\n",
    "insert_result = conn.insert(entities)\n",
    "print(insert_result)\n",
    "# After final entity is inserted, it is best to call flush to have no growing segments left in memory\n",
    "conn.flush()"
   ],
   "metadata": {
    "collapsed": false,
    "ExecuteTime": {
     "end_time": "2024-05-28T02:03:58.725508Z",
     "start_time": "2024-05-28T02:03:55.368582Z"
    }
   },
   "id": "389d64f43a009da2",
   "outputs": [
    {
     "name": "stdout",
     "output_type": "stream",
     "text": [
      "(insert count: 1, delete count: 0, upsert count: 0, timestamp: 450065025403191299, success count: 1, err count: 0)\n"
     ]
    }
   ],
   "execution_count": 4
  },
  {
   "cell_type": "code",
   "outputs": [],
   "source": [
    "index = {\n",
    "    \"index_type\": \"GPU_IVF_FLAT\",\n",
    "    # \"index_type\": \"IVF_FLAT\",\n",
    "    \"metric_type\": \"L2\",\n",
    "    \"params\": {\"nlist\": 128},\n",
    "}\n",
    "conn.create_index(\"embeddings\", index)\n",
    "conn.load()"
   ],
   "metadata": {
    "collapsed": false,
    "ExecuteTime": {
     "end_time": "2024-03-08T07:51:59.336927Z",
     "start_time": "2024-03-08T07:51:55.255353Z"
    }
   },
   "id": "f3a44f57b2bc77e6",
   "execution_count": 5
  },
  {
   "cell_type": "code",
   "outputs": [
    {
     "name": "stdout",
     "output_type": "stream",
     "text": [
      "[\"['id: 2998, distance: 0.0, entity: {}', 'id: 1462, distance: 73.90617370605469, entity: {}', 'id: 2041, distance: 74.61800384521484, entity: {}']\", \"['id: 2999, distance: 0.0, entity: {}', 'id: 522, distance: 72.03376770019531, entity: {}', 'id: 2735, distance: 73.26708984375, entity: {}']\"]\n"
     ]
    }
   ],
   "source": [
    "vectors_to_search = entities[-3][-2:]\n",
    "search_params = {\n",
    "    \"metric_type\": \"L2\",\n",
    "    \"index_type\": \"GPU_IVF_FLAT\",\n",
    "    \"params\": {\"nprobe\": 10},\n",
    "}\n",
    "result = conn.search(vectors_to_search, \"embedding\", search_params, limit=3)\n",
    "print(result)"
   ],
   "metadata": {
    "collapsed": false,
    "ExecuteTime": {
     "end_time": "2024-03-11T06:55:06.682213Z",
     "start_time": "2024-03-11T06:55:06.659048Z"
    }
   },
   "id": "164bb719250aa298",
   "execution_count": 10
  },
  {
   "cell_type": "code",
   "outputs": [
    {
     "name": "stdout",
     "output_type": "stream",
     "text": [
      "第八章考核与评估\n",
      "第四十八条干部教育培训主管部门和干部教育培训机构应当完善干部教育培训考核和激励机制。干部接受教育培训情况应当作为干部考核的内容和任职、晋升的重要依据。\n",
      "第四十九条干部教育培训考核的内容包括干部的学习态度和表现，理论、知识掌握程度，党性修养、作风养成和遵规守纪情况，以及解决实际问题的能力等。\n",
      "干部教育培训考核结果应当按照干部管理权限及时反馈组织人事部门。干部教育培训考核不合格的，年度考核不得确定为优秀等次。\n",
      "第五十条干部教育培训考核应当区分不同教育培训方式分别实施。脱产培训的考核，由主办单位和干部教育培训机构实施；网络培训的考核，由主办单位和干部所在单位实施。\n",
      "干部教育培训主管部门和干部教育培训机构应当健全跟班管理制度，加强对干部学习培训的考核与监督。\n",
      "第五十一条干部教育培训实行登记管理。各级干部教育培训主管部门和干部所在单位应当按照干部管理权限，建立完善干部教育培训档案，如实记载干部参加教育培训情况和考核结果。\n",
      "干部参加脱产培训情况应当记入干部年度考核登记表，参加2个月以上的脱产培训情况应当记入干部任免审批表。\n",
      "第五十二条干部教育培训主管部门负责对干部教育培训机构进行评估，也可以委托干部教育培训主管部门认可的机构进行评估。\n",
      "干部教育培训机构评估的内容包括办学方针、培训质量、师资队伍、组织管理、学风建设、基础设施、经费管理等。\n",
      "干部教育培训主管部门应当充分运用评估结果，指导干部教育培训机构改进工作。\n",
      "第五十三条干部教育培训主办单位负责对干部教育培训班次进行评估。\n",
      "班次评估的内容包括培训设计、培训实施、培训管理、培训效果等。\n",
      "评估结果应当作为评价干部教育培训机构办学质量的重要标准，作为确定干部教育培训机构承担培训任务的重要依据。\n",
      "第五十四条干部教育培训机构负责对干部教育培训课程进行评估。\n",
      "课程评估的内容包括教学态度、教学内容、教学方法、教学效果等。\n",
      "干部教育培训机构应当将评估结果作为指导教学部门和教师改进教学的重要依据。\n",
      "第七章师资、课程、教材、经费\n",
      "第三十六条干部教育培训主管部门和干部教育培训机构应当按照政治过硬、素质优良、规模适当、结构合理、专兼结合的原则，建设高素质干部教育培训师资队伍。\n",
      "第三十七条从事干部教育培训工作的教师，必须对党忠诚、信念坚定，严守纪律、严谨治学，具有良好的思想道德修养、较高的理论政策水平、扎实的专业知识基础，有一定的实际工作经验，掌握现代教育培训理论和方法，具备胜任教学、科研工作的能力，不得传播违反党的理论和路线方针政策、违反中央决定的错误观点。\n",
      "第三十八条注重专职教师队伍建设，创新引才育才机制，完善考核、奖惩和教育培训、实践锻炼制度，专职教师每年参加教育培训的时间累计不少于1个月。逐步建立符合干部教育培训特点的师资队伍考核评价体系和职称评审制度。\n",
      "第三十九条注重邀请思想政治素质过硬、实践经验丰富、理论水平较高的领导干部、专家学者和先进模范人物、优秀基层干部等到干部教育培训课堂授课，充分发挥外请教师的作用。干部教育培训主办单位和干部教育培训机构应当加强对外请教师的审核把关。\n",
      "坚持领导干部上讲台制度。县级以上党政领导班子成员特别是主要领导干部应当带头到党校（行政学院）、干部学院、社会主义学院等授课。\n",
      "第四十条中央组织部和各省（自治区、直辖市）党委组织部应当建立完善干部教育培训师资库。有条件的地区和部门可以根据工作需要建立干部教育培训师资库。\n",
      "第四十一条干部教育培训主管部门和干部教育培训机构应当完善课程开发和更新机制，构建富有时代特征和实践特色、务实管用的课程体系。\n",
      "第四十二条加强精品课程建设，重点开发体现马克思主义中国化时代化最新成果、反映各领域实践党的创新理论的精品课程。\n",
      "建立干部教育培训精品课程库，实现优质课程资源共享。\n",
      "第四十三条适应不同类别干部教育培训的需要，着眼于提高干部综合素质和能力，开发具有政治性、思想性、权威性、指导性、可读性的干部学习培训教材。\n",
      "第四十四条全国干部培训教材编审指导委员会负责全国干部学习培训教材规划、编写、审定等工作。地方、部门和干部教育培训机构可以编写符合需要、各具特色的干部学习培训教材。\n",
      "第四十五条干部教育培训主管部门和干部教育培训机构应当严格审核把关，优先选用中央有关部门组织编写、推荐的权威教材，也可以选用其他优秀出版物。未经审核把关的教材不得进入干部教育培训课堂。\n",
      "第四十六条干部教育培训经费列入各级政府年度财政预算，保证干部教育培训工作需要。\n",
      "干部教育培训主管部门、干部教育培训主办单位和干部教育培训机构应当严格干部教育培训经费管理，厉行节约，勤俭办学，提高经费使用效益。\n",
      "第四十七条各级党委和政府应当加大对革命老区、民族地区、边疆地区、乡村振兴重点帮扶地区干部教育培训支持力度，推动优质培训资源向基层延伸倾斜。\n",
      "第二章管理体制\n",
      "第五条全国干部教育培训工作实行在党中央领导下，由中央组织部主管，中央和国家机关有关工作部门分工负责，中央和地方分级管理的体制。\n",
      "第六条中央组织部履行全国干部教育培训工作的整体规划、制度建设、宏观指导、协调服务、监督管理等职能。\n",
      "全国干部教育联席会议成员单位按照职责分工，负责相关的干部教育培训工作。\n",
      "中央和国家机关各部门负责指导本行业本系统的业务培训。\n",
      "第七条地方各级党委领导本地区干部教育培训工作，贯彻执行党和国家干部教育培训工作的方针政策，把干部教育培训工作纳入本地区党的建设整体部署和经济社会发展规划，统筹研究推进。\n",
      "地方各级党委组织部主管本地区干部教育培训工作。地方各级干部教育领导小组或者联席会议成员单位按照职责分工，负责相关的干部教育培训工作。\n",
      "第八条干部所在单位按照干部管理权限，负责组织实施和管理本单位的干部教育培训工作。\n",
      "第九条垂直管理部门的干部教育培训工作由部门负责。\n",
      "双重管理单位的干部教育培训工作由主管单位负责、协管单位配合，根据工作需要，经协商也可以由协管单位负责。\n",
      "第十条党委和政府工作部门抽调下级党委和政府领导班子成员参加培训，必须报同级干部教育培训主管部门审批；抽调下级党委管理的干部参加本系统本行业培训，应当以书面形式提前通知下级党委组织部门，避免多头调训和重复培训。\n",
      "第十章附则\n",
      "第六十一条中国人民解放军和中国人民武装警察部队的干部教育培训规定，由中央军事委员会根据本条例制定。\n",
      "第六十二条本条例由中共中央组织部负责解释。\n",
      "第六十三条本条例自发布之日起施行。\n",
      "第三章教育培训对象\n",
      "第十一条干部有接受教育培训的权利和义务。\n",
      "第十二条干部教育培训的对象是全体干部，重点是县处级以上党政领导干部和优秀年轻干部。\n",
      "第十三条干部应当根据不同情况参加相应的教育培训：\n",
      "（一）党的理论教育和党性教育的专题培训；\n",
      "（二）贯彻落实党和国家重大决策部署的集中轮训；\n",
      "（三）新录（聘）用的初任培训；\n",
      "（四）晋升领导职务的任职培训；\n",
      "（五）提升履职能力的在职培训；\n",
      "（六）其他培训。\n",
      "第十四条省部级、厅局级、县处级党政领导干部和四级调研员及相当层次职级以上公务员，经组织选调，应当每5年参加党校（行政学院）、干部学院等干部教育培训机构脱产培训，以及干部教育培训主管部门认可的其他集中培训，累计不少于3个月或者550学时。提拔担任领导职务的，确因特殊情况在提任前未达到教育培训要求的，应当在提任后1年内完成培训。干部教育培训主管部门应当作出规划，统筹安排。\n",
      "乡科级党政领导干部和一级主任科员及相当层次职级以下公务员，应当每年参加干部教育培训主管部门认可的集中培训，累计不少于12天或者90学时。\n",
      "干部应当结合岗位职责参加网络培训，完成规定的学时。\n",
      "第十五条干部在参加组织选派的脱产培训期间，一般应当享受在岗同等待遇，一般不承担所在单位的日常工作、出国（境）考察等任务。因特殊情况确需请假的，必须严格履行手续，累计请假时间原则上不得超过总学时的1/7，超过的应予退学。\n",
      "第十六条干部个人参加社会化培训，费用一律由本人承担，不得由财政经费和单位经费报销，不得接受任何机构和他人的资助或者变相资助。\n"
     ]
    }
   ],
   "source": [
    "connections.connect(\n",
    "    \"default\",\n",
    "    host=\"10.133.95.100\",\n",
    "    port=\"9105\",\n",
    ")\n",
    "res = Collection(name=\"zhishi\").search(\n",
    "    data=[[1.0 for _ in range(1024)], ],\n",
    "    anns_field=\"embedding\",\n",
    "    param={\n",
    "        \"metric_type\": \"L2\",\n",
    "        \"nprobe\": 10,\n",
    "    },\n",
    "    limit=5,\n",
    "    output_fields=[\"text\",],\n",
    ")\n",
    "hits = res[0]\n",
    "for hit in hits:\n",
    "    # print(hit.entity.fields[\"text\"])\n",
    "    print(hit.fields[\"text\"])"
   ],
   "metadata": {
    "collapsed": false,
    "ExecuteTime": {
     "end_time": "2024-04-07T07:46:33.255392Z",
     "start_time": "2024-04-07T07:46:33.223338Z"
    }
   },
   "id": "417cd19c0b3d0bba",
   "execution_count": 9
  }
 ],
 "metadata": {
  "kernelspec": {
   "display_name": "Python 3",
   "language": "python",
   "name": "python3"
  },
  "language_info": {
   "codemirror_mode": {
    "name": "ipython",
    "version": 2
   },
   "file_extension": ".py",
   "mimetype": "text/x-python",
   "name": "python",
   "nbconvert_exporter": "python",
   "pygments_lexer": "ipython2",
   "version": "2.7.6"
  }
 },
 "nbformat": 4,
 "nbformat_minor": 5
}
