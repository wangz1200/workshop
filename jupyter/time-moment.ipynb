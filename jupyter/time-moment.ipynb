{
 "cells": [
  {
   "cell_type": "code",
   "execution_count": null,
   "id": "f25cba421299ab81",
   "metadata": {
    "collapsed": true
   },
   "outputs": [],
   "source": [
    "import os\n",
    "import torch\n",
    "from moment import MOMENTPipeline\n",
    "\n",
    "\n",
    "os.environ[\"HF_ENDPOINT\"] = \"https://hf-mirror.com\"\n",
    "\n",
    "\n",
    "model = MOMENTPipeline.from_pretrained(\n",
    "    \"AutonLab/MOMENT-1-large\",\n",
    "    model_kwargs={\n",
    "        \"task_name\": \"forecasting\",\n",
    "        \"forecast_horizon\": 96\n",
    "    },\n",
    ")\n",
    "model.init()"
   ]
  },
  {
   "metadata": {
    "ExecuteTime": {
     "end_time": "2024-05-28T08:42:17.153798Z",
     "start_time": "2024-05-28T08:42:17.147950Z"
    }
   },
   "cell_type": "code",
   "source": [
    "import torch\n",
    "from moment.models.layers.revin import RevIN\n",
    "\n",
    "\n",
    "t0 = torch.Tensor([1, 2, 3, 4, 5, 6, 7, 8, 9, 10])\n",
    "t1 = t0.unfold(-1, 2, 5)\n",
    "print(t1)\n",
    "print(t1.shape)"
   ],
   "id": "e022f09d0b1b3900",
   "outputs": [
    {
     "name": "stdout",
     "output_type": "stream",
     "text": [
      "tensor([[1., 2.],\n",
      "        [6., 7.]])\n",
      "torch.Size([2, 2])\n"
     ]
    }
   ],
   "execution_count": 4
  }
 ],
 "metadata": {
  "kernelspec": {
   "display_name": "Python 3",
   "language": "python",
   "name": "python3"
  },
  "language_info": {
   "codemirror_mode": {
    "name": "ipython",
    "version": 2
   },
   "file_extension": ".py",
   "mimetype": "text/x-python",
   "name": "python",
   "nbconvert_exporter": "python",
   "pygments_lexer": "ipython2",
   "version": "2.7.6"
  }
 },
 "nbformat": 4,
 "nbformat_minor": 5
}
