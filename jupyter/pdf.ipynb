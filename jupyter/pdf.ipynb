{
 "cells": [
  {
   "cell_type": "code",
   "execution_count": 8,
   "id": "initial_id",
   "metadata": {
    "collapsed": true,
    "ExecuteTime": {
     "end_time": "2023-12-20T02:21:00.643417300Z",
     "start_time": "2023-12-20T02:20:59.728064100Z"
    }
   },
   "outputs": [],
   "source": [
    "import os\n",
    "import re\n",
    "import fitz\n",
    "from pathlib import Path\n",
    "\n",
    "\n",
    "input_dir = \"./data/text/pdf\"\n",
    "output_dir = \"./output/text/pdf/\"\n",
    "content = []\n",
    "for file in os.listdir(input_dir):\n",
    "    path = Path(input_dir, file)\n",
    "    if path.absolute().suffix not in [\".pdf\"]:\n",
    "        continue\n",
    "    doc = fitz.open(path.absolute())\n",
    "    text_item = []\n",
    "    for page in doc:\n",
    "        t = page.get_text().replace(\"\\n\", \"\")\n",
    "        text_item.append(t)\n",
    "    content.append(text_item)\n",
    "if content:\n",
    "    index = 0\n",
    "    for i, item in enumerate(content):\n",
    "        txt = \"\".join(item)\n",
    "        txt = re.split(r\"第?[\\d|一二三四五六七八九十]+章\", txt)\n",
    "        for t in txt:\n",
    "            if len(t) <= 100:\n",
    "                continue\n",
    "            index = index  + 1\n",
    "            file_name = \"{:0>8}\".format(index)\n",
    "            with Path(output_dir, file_name + \".txt\").open(mode=\"w+\", encoding=\"utf8\") as f:\n",
    "                f.write(t)\n",
    "                \n",
    "        "
   ]
  }
 ],
 "metadata": {
  "kernelspec": {
   "display_name": "Python 3",
   "language": "python",
   "name": "python3"
  },
  "language_info": {
   "codemirror_mode": {
    "name": "ipython",
    "version": 2
   },
   "file_extension": ".py",
   "mimetype": "text/x-python",
   "name": "python",
   "nbconvert_exporter": "python",
   "pygments_lexer": "ipython2",
   "version": "2.7.6"
  }
 },
 "nbformat": 4,
 "nbformat_minor": 5
}
